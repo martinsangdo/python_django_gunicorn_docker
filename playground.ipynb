{
 "cells": [
  {
   "cell_type": "code",
   "execution_count": null,
   "metadata": {},
   "outputs": [],
   "source": [
    "#testing basic functions"
   ]
  },
  {
   "cell_type": "code",
   "execution_count": 1,
   "metadata": {},
   "outputs": [],
   "source": [
    "import csv"
   ]
  },
  {
   "cell_type": "code",
   "execution_count": 2,
   "metadata": {},
   "outputs": [],
   "source": [
    "FILE_PATH = './data/sales.csv'"
   ]
  },
  {
   "cell_type": "code",
   "execution_count": 5,
   "metadata": {},
   "outputs": [
    {
     "name": "stdout",
     "output_type": "stream",
     "text": [
      "1661\n"
     ]
    }
   ],
   "source": [
    "def read_csv():\n",
    "    file_rows = []\n",
    "    try:\n",
    "        with open(FILE_PATH, 'r', newline='') as csvfile:\n",
    "            reader = csv.reader(csvfile)\n",
    "            index = 0\n",
    "            for row in reader:\n",
    "                if index > 0:   #skip header in the file\n",
    "                    file_rows.append(row)\n",
    "                index += 1\n",
    "            print(len(file_rows))\n",
    "    except Exception as e:\n",
    "        print(f\"An error occurred while reading file: {e}\")\n",
    "#test\n",
    "read_csv()"
   ]
  },
  {
   "cell_type": "code",
   "execution_count": null,
   "metadata": {},
   "outputs": [],
   "source": []
  }
 ],
 "metadata": {
  "kernelspec": {
   "display_name": "3.9.10",
   "language": "python",
   "name": "python3"
  },
  "language_info": {
   "codemirror_mode": {
    "name": "ipython",
    "version": 3
   },
   "file_extension": ".py",
   "mimetype": "text/x-python",
   "name": "python",
   "nbconvert_exporter": "python",
   "pygments_lexer": "ipython3",
   "version": "3.9.10"
  }
 },
 "nbformat": 4,
 "nbformat_minor": 2
}
