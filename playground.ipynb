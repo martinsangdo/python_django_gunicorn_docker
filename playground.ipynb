{
 "cells": [
  {
   "cell_type": "code",
   "execution_count": null,
   "metadata": {},
   "outputs": [],
   "source": [
    "#testing basic functions"
   ]
  },
  {
   "cell_type": "code",
   "execution_count": 4,
   "metadata": {},
   "outputs": [],
   "source": [
    "import csv\n",
    "import pandas as pd"
   ]
  },
  {
   "cell_type": "code",
   "execution_count": 2,
   "metadata": {},
   "outputs": [],
   "source": [
    "FILE_PATH = './data/sales.csv'"
   ]
  },
  {
   "cell_type": "code",
   "execution_count": null,
   "metadata": {},
   "outputs": [
    {
     "name": "stdout",
     "output_type": "stream",
     "text": [
      "['10 Practice Credits' 'Club set rental' '30 Mins Practice Credit'\n",
      " 'Mineral Water' '10 Lesson Pack  (Johnson Poh)'\n",
      " '10 Lesson Pack (Kim On You)' '60 Mins Practise'\n",
      " 'Golfzon 18 Holes - 1 Pax' 'Golfzon 9 Holes - 3 Pax'\n",
      " 'Golfzon 9 Holes - 1 Pax' 'Golfzon 18 Holes - 2 Pax'\n",
      " '10 Lesson Pack (Jasper  Park)' '1 month storage'\n",
      " 'Golfzon 18 Holes - 3 Pax' '5 Semi Private (1:2 Lesson) w/ Kim On You'\n",
      " '10 Lesson Pack (Paul Finch)' '25 Practice Credits'\n",
      " '10 Lesson Pack (Joey Poh.)' '10 Lesson Pack (Jiali Khee.)' 'Coke'\n",
      " 'Americano' 'Flat White' 'Coke Zero' '100+'\n",
      " '20 Lesson Pack (Jasper Park)' 'Group Trial Paul' 'Nescafe'\n",
      " '20 Lesson Pack  (Joey Poh)' '1 Club Rental' 'Golfzon 18 Holes - 4 Pax'\n",
      " 'Trial Lesson W/ Paul F' 'Group Trial Joey' '50 Practice Credits'\n",
      " 'Golfzon 9 Holes - 2 Pax' '5 Semi Private (1:2 Lesson) w/ Paul Finch'\n",
      " 'Sparkling Water' '20 Lesson Pack (Johnson Poh)'\n",
      " '20 Lesson Pack (Jiali Khee.)' 'Group Trial Jiali'\n",
      " 'Trial Lesson W/ Joey Poh' 'Mineral Water ' '90 Mins practice'\n",
      " '10 Lesson Pack ( Aiko H)' '5 Weeks Junior Program' 'Sprite'\n",
      " '30 Mins 1:1 Lesson W/ Jasper' 'Trial Lesson w/ Jasper'\n",
      " 'Trial Lesson W/ Johnson Poh' '5 Semi Private (1:2 Lesson) w/ Joey Poh'\n",
      " 'SKA Group Class' '10 Semi Private (1:2 Lesson)  w/ Jasper Park'\n",
      " '50 Lesson Pack  (Jiali Khee)' 'Cafe Latte' 'Golfzon 9 Holes - 4 Pax'\n",
      " 'Trial Lesson w/ Jasper ' '5 Semi Private (1:2 Lesson) w/ Johnson Poh.'\n",
      " 'Trial Lesson W/ Son Gunwoo' 'Trial Lesson W/ Kim On You'\n",
      " '50 Lesson Pack  (Johnson Poh)' '1 Week Storage'\n",
      " '30 Mins 1:1 Lesson W/ Paul Finch' '100 Practice Credits'\n",
      " 'Trial Lesson W/ Aiko H' '50 Gift Voucher' 'Trial Lesson W/ Jiali Khee'\n",
      " '20 Lesson Pack (Kim On You)' '30 Min Practice Voucher'\n",
      " '50 Lesson Pack (Jasper Park)' '30 Mins 1:1 Lesson W/ Aiko H'\n",
      " '60 Mins 1:1 Lesson W/ Aiko H.' 'Group Trial Jasper'\n",
      " '60 Mins 1:1 Lesson W/ Jasper Park.' '20 Lesson Pack (Paul Finch)'\n",
      " '30 Mins 1:1 Lesson W/ Jiali Khee' '10 Lesson Pack (Son Gunwoo)'\n",
      " 'Trial Lesson W/ Desmond Tan' 'Group Trial Desmond' 'Group Trial Gunwoo'\n",
      " '20 Lesson Pack (Desmond Tan)' '10 Lesson Pack (Desmond Tan)'\n",
      " '10 Semi Private (1:2 Lesson) W/ Desmond Tan'\n",
      " '20 Lesson Pack (Son Gunwoo)']\n"
     ]
    }
   ],
   "source": [
    "def read_csv():\n",
    "    df = pd.read_csv(FILE_PATH)\n",
    "    product_names = df['Item name'].unique()\n",
    "    print(product_names)\n",
    "\n",
    "#test\n",
    "read_csv()"
   ]
  },
  {
   "cell_type": "code",
   "execution_count": null,
   "metadata": {},
   "outputs": [],
   "source": []
  }
 ],
 "metadata": {
  "kernelspec": {
   "display_name": "3.9.10",
   "language": "python",
   "name": "python3"
  },
  "language_info": {
   "codemirror_mode": {
    "name": "ipython",
    "version": 3
   },
   "file_extension": ".py",
   "mimetype": "text/x-python",
   "name": "python",
   "nbconvert_exporter": "python",
   "pygments_lexer": "ipython3",
   "version": "3.9.10"
  }
 },
 "nbformat": 4,
 "nbformat_minor": 2
}
